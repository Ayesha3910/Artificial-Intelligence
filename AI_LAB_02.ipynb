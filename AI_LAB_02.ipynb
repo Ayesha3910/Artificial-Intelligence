{
  "nbformat": 4,
  "nbformat_minor": 0,
  "metadata": {
    "colab": {
      "provenance": [],
      "authorship_tag": "ABX9TyPuyTg9fx9T8U3nOMhBIJ97",
      "include_colab_link": true
    },
    "kernelspec": {
      "name": "python3",
      "display_name": "Python 3"
    },
    "language_info": {
      "name": "python"
    }
  },
  "cells": [
    {
      "cell_type": "markdown",
      "metadata": {
        "id": "view-in-github",
        "colab_type": "text"
      },
      "source": [
        "<a href=\"https://colab.research.google.com/github/Ayesha3910/Artificial-Intelligence/blob/main/AI_LAB_02.ipynb\" target=\"_parent\"><img src=\"https://colab.research.google.com/assets/colab-badge.svg\" alt=\"Open In Colab\"/></a>"
      ]
    },
    {
      "cell_type": "code",
      "execution_count": 1,
      "metadata": {
        "colab": {
          "base_uri": "https://localhost:8080/"
        },
        "id": "M5oH-thxAViT",
        "outputId": "067503a3-2752-49c4-c176-e8679350fbea"
      },
      "outputs": [
        {
          "output_type": "stream",
          "name": "stdout",
          "text": [
            "Enter First List Element: 2\n",
            "Enter First List Element: 2\n",
            "Enter First List Element: 2\n",
            "Enter First List Element: 2\n",
            "Enter First List Element: 2\n",
            "Enter Second List Element: 4\n",
            "Enter Second List Element: 4\n",
            "Enter Second List Element: 4\n",
            "Enter Second List Element: 4\n",
            "Enter Second List Element: 4\n",
            "[2, 2, 2, 2, 2, 4, 4, 4, 4, 4]\n"
          ]
        }
      ],
      "source": [
        "\n",
        "# Lab Activity 1\n",
        "# Accept two lists from user and display their join.?\n",
        "\n",
        "firstList = []\n",
        "secondList = []\n",
        "resultList = []\n",
        "for i in range(0,5):\n",
        "  firstList.append(int(input(\"Enter First List Element: \")))\n",
        "\n",
        "for i in range(0,5):\n",
        "  secondList.append(int(input(\"Enter Second List Element: \")))\n",
        "\n",
        "resultList = firstList + secondList\n",
        "print(resultList)"
      ]
    },
    {
      "cell_type": "code",
      "source": [
        "# Lab Activity 2\n",
        "# A palindrome is a string which is same read forward or backwards.?\n",
        "# Return true if string is palindrome else return false?\n",
        "def isPalindrome(words):\n",
        "  temp=words[::-1]\n",
        "  if temp.capitalize()==words.capitalize():\n",
        "      return True\n",
        "  else:\n",
        "       return False\n",
        "print(isPalindrome(\"pop\"))"
      ],
      "metadata": {
        "colab": {
          "base_uri": "https://localhost:8080/"
        },
        "id": "6YDyaTpMBNxF",
        "outputId": "c6c704cb-00ab-4487-afec-18dd40c09eae"
      },
      "execution_count": 2,
      "outputs": [
        {
          "output_type": "stream",
          "name": "stdout",
          "text": [
            "True\n"
          ]
        }
      ]
    },
    {
      "cell_type": "code",
      "source": [
        "# Lab Acivity 3\n",
        "# Fond the product of two 2D matrices and store in new 2D matrix?\n",
        "\n",
        "firstMatrix = [[1,3] , [2,5]]\n",
        "secondMatrix = [[3,2] , [9,9]]\n",
        "resultMatrix = []\n",
        "\n",
        "if len(firstMatrix) == len(secondMatrix):\n",
        "  for i in range(0,len(firstMatrix)):\n",
        "    resultMatrix.append([])\n",
        "    for j in range(0,len(firstMatrix)):\n",
        "      resultMatrix[i].append(0)\n",
        "\n",
        "  for row in range(0,len(firstMatrix)):\n",
        "    for col in range(0,len(firstMatrix)):\n",
        "      for k in range(0,len(firstMatrix)):\n",
        "        resultMatrix[row][col] += firstMatrix[row][k] * secondMatrix[k][col]\n",
        "  print(f\"Product of two 2D matrices is: {resultMatrix}\")\n",
        "else:\n",
        "  print(\"Matrices is incompatible for product\")"
      ],
      "metadata": {
        "colab": {
          "base_uri": "https://localhost:8080/"
        },
        "id": "LRqgjZ1MCMpt",
        "outputId": "31516874-2dc5-4d2d-b52f-0d40069df7ee"
      },
      "execution_count": 3,
      "outputs": [
        {
          "output_type": "stream",
          "name": "stdout",
          "text": [
            "Product of two 2D matrices is: [[30, 29], [51, 49]]\n"
          ]
        }
      ]
    },
    {
      "cell_type": "code",
      "source": [
        "# Lab Activity 4\n",
        "# Write a python function that takes a list of N tuples as input and returns the perimeter of the\n",
        "# polygon. Remember that your code should work for any value of N.?\n",
        "\n",
        "def perimeterofN(listNumbers):\n",
        "    lengthOfList = len(listNumbers)\n",
        "    perimeter = 0\n",
        "    \n",
        "    for i in range(0, lengthOfList-1):\n",
        "        distance = (((listNumbers[i][0] - listNumbers[i+1][0]) **2)\n",
        "                   + ((listNumbers[i][1] - listNumbers[i+1][1]) **2)) ** 0.5\n",
        "        perimeter += distance\n",
        "    perimeter += (((listNumbers[0][0] - listNumbers[lengthOfList-1][0]) ** 2)+\n",
        "                 ((listNumbers[0][1] - listNumbers[lengthOfList-1][1]) ** 2)) ** 0.5\n",
        "    return perimeter\n",
        "inputList = [(3,9) , (5,7), (1,1)]\n",
        "print(perimeterofN(inputList))"
      ],
      "metadata": {
        "colab": {
          "base_uri": "https://localhost:8080/"
        },
        "id": "QX1JxF-pCYIQ",
        "outputId": "4b262102-d6a1-4e9b-f239-d076269bd285"
      },
      "execution_count": 8,
      "outputs": [
        {
          "output_type": "stream",
          "name": "stdout",
          "text": [
            "18.28574092690949\n"
          ]
        }
      ]
    },
    {
      "cell_type": "code",
      "source": [
        "# Lab Activity 5\n",
        "# Imagine two sets A and B containing numbers. Without using built-in set functionalities, \n",
        "# write your own function that receives two such sets and returns another set \n",
        "# C which is a symmetric difference of the two input sets. ?\n",
        "\n",
        "def symmDiff(a,b):\n",
        "  e=set()\n",
        "  for i in a:\n",
        "       if i not in b:\n",
        "            e.add(i)\n",
        "            for i in b:\n",
        "              if i not in a:\n",
        "                e.add(i)\n",
        "set1={1,2,4,5}\n",
        "set2={4,5,7,8,9}\n",
        "print(symmDiff(set1,set2))\n",
        "print(set1.symmetric_difference(set2))\n",
        "print(set2.symmetric_difference(set1))\n",
        "print(set1^set2)\n",
        "print(set2^set1)"
      ],
      "metadata": {
        "colab": {
          "base_uri": "https://localhost:8080/"
        },
        "id": "hYCuvx3PDH-M",
        "outputId": "597a014e-ab82-477b-c723-e77b136bf382"
      },
      "execution_count": 9,
      "outputs": [
        {
          "output_type": "stream",
          "name": "stdout",
          "text": [
            "None\n",
            "{1, 2, 7, 8, 9}\n",
            "{1, 2, 7, 8, 9}\n",
            "{1, 2, 7, 8, 9}\n",
            "{1, 2, 7, 8, 9}\n"
          ]
        }
      ]
    },
    {
      "cell_type": "code",
      "source": [
        "# Lab Activity 6\n",
        "# Create a Python program that contains a dictionary of names and phone numbers. ?\n",
        "# Use a tuple of separate first and last name values for the key field.? \n",
        "# Initialize the dictionary with at least three names and numbers.?\n",
        "\n",
        "dictionary = {(\"Ayesha\" , \"Bibi\"): \"2398777\", (\"ishfaq\"): \"038232873898\" , (\"iqra\",\"khan\"): \"0847238974221\"}\n",
        "fname = input(\"Enter First Name: \")\n",
        "lname = input(\"Enter Last Name: \")\n",
        "\n",
        "search = (fname , lname)\n",
        "if search in dictionary:\n",
        "    print(search , \" : \" , dictionary[search])\n",
        "else:\n",
        "    print(\"Not Found\")"
      ],
      "metadata": {
        "colab": {
          "base_uri": "https://localhost:8080/"
        },
        "id": "DAaj93zUDezW",
        "outputId": "5ba0b4ee-5507-4cbd-e163-254b6773647c"
      },
      "execution_count": 10,
      "outputs": [
        {
          "output_type": "stream",
          "name": "stdout",
          "text": [
            "Enter First Name: Ayesha\n",
            "Enter Last Name: Bibi\n",
            "('Ayesha', 'Bibi')  :  2398777\n"
          ]
        }
      ]
    },
    {
      "cell_type": "code",
      "source": [
        "# Lab Task 1\n",
        "# Find the Largest and Smallest Number in List?\n",
        "\n",
        "myList = []\n",
        "length = int(input(\"Enter the length of the list: \"))\n",
        "\n",
        "for i in range(0,length):\n",
        "  myList.append(int(input(\"Enter Element: \")))\n",
        "\n",
        "for i in range(0,length):\n",
        "  for j in range(i+1 , length):\n",
        "    if myList[i] > myList[j]:\n",
        "      temp = myList[i]\n",
        "      myList[i] = myList[j]\n",
        "      myList[j] = temp\n",
        "print(f\"Largest Number is: {myList[-1]}\")\n",
        "print(f\"Smallest Number is: {myList[0]}\")"
      ],
      "metadata": {
        "colab": {
          "base_uri": "https://localhost:8080/"
        },
        "id": "I4qK4_G8DwZT",
        "outputId": "74f34b3e-a322-4d60-afb4-758f12c58df4"
      },
      "execution_count": 12,
      "outputs": [
        {
          "output_type": "stream",
          "name": "stdout",
          "text": [
            "Enter the length of the list: 3\n",
            "Enter Element: 10\n",
            "Enter Element: 2\n",
            "Enter Element: 9\n",
            "Largest Number is: 10\n",
            "Smallest Number is: 2\n"
          ]
        }
      ]
    },
    {
      "cell_type": "code",
      "source": [
        "# Lab task 2\n",
        "\n",
        "import math\n",
        "a= math.pi\n",
        "b = -(a)\n",
        "mylist =[] \n",
        "mylist.append(b)\n",
        "mylist.append(a)\n",
        "for i in range(5):\n",
        "    a+=0.001\n",
        "    b+=0.001\n",
        "    mylist.append(b)\n",
        "    mylist.append(a)\n",
        "print(mylist)"
      ],
      "metadata": {
        "colab": {
          "base_uri": "https://localhost:8080/"
        },
        "id": "_mfXS2xuFUsC",
        "outputId": "57bb2bb9-e28f-46fd-bab4-37d09085a773"
      },
      "execution_count": 14,
      "outputs": [
        {
          "output_type": "stream",
          "name": "stdout",
          "text": [
            "[-3.141592653589793, 3.141592653589793, -3.1405926535897932, 3.142592653589793, -3.1395926535897933, 3.143592653589793, -3.1385926535897934, 3.144592653589793, -3.1375926535897936, 3.1455926535897927, -3.1365926535897937, 3.1465926535897926]\n"
          ]
        }
      ]
    },
    {
      "cell_type": "code",
      "source": [
        "# Lab Task 3\n",
        "# Create a dictionary by extracting the keys from a given dictionary\n",
        "# Write a Python program to create a new dictionary by extracting the mentioned keys from the below dictionary.?\n",
        "\n",
        "sampleDict = {(\"name\"): \"Ayesha\" , (\"age\"): \"19\" , (\"salary\"): \"598000\" , (\"city\"): \"Attock\"}\n",
        "\n",
        "keys = {key: sampleDict[key] for key in sampleDict.keys() & {'name' , 'city'}}\n",
        "\n",
        "print(keys)"
      ],
      "metadata": {
        "colab": {
          "base_uri": "https://localhost:8080/"
        },
        "id": "sK9zASYqFid2",
        "outputId": "32cb17a7-fea8-448b-ce1c-7fc73411afc1"
      },
      "execution_count": 15,
      "outputs": [
        {
          "output_type": "stream",
          "name": "stdout",
          "text": [
            "{'city': 'Attock', 'name': 'Ayesha'}\n"
          ]
        }
      ]
    },
    {
      "cell_type": "code",
      "source": [
        "# Lab task 4\n",
        "# For this exercise, you will keep track of when our friend’s birthdays are, \n",
        "# and be able to find that information based on their name.?\n",
        "# using dictionary?\n",
        "\n",
        "birthdayDictionary = {(\"Ali\"): \"24/11/2002\" , (\"Ahmed\"): \"05/05/2005\" , (\"Hamza\"): \"10/09/2001\"}\n",
        "print(\"Welcome to Birthday Dictionary: \")\n",
        "birthday = input(\"Enter the name of a person you want to see his BirthDate: \")\n",
        "\n",
        "search = birthday\n",
        "if search in birthdayDictionary:\n",
        "  print(search+\"'s birthday is \" , birthdayDictionary[search])\n",
        "else:\n",
        "  print(\" Sorry not found\")"
      ],
      "metadata": {
        "colab": {
          "base_uri": "https://localhost:8080/"
        },
        "id": "s2nqVKZeGO5F",
        "outputId": "a1864e30-e47e-44f0-fa4c-f7b559a01843"
      },
      "execution_count": 16,
      "outputs": [
        {
          "output_type": "stream",
          "name": "stdout",
          "text": [
            "Welcome to Birthday Dictionary: \n",
            "Enter the name of a person you want to see his BirthDate: Ali\n",
            "Ali's birthday is  24/11/2002\n"
          ]
        }
      ]
    },
    {
      "cell_type": "code",
      "source": [
        "# Lab Task 5\n",
        "# Create two lists based on the user values. Merge both the lists and display in sorted order.?\n",
        "mylist=[]\n",
        "print(\"Enter  a list that is  taken from user 1\")\n",
        "for i in range (5):\n",
        "  val=input(\"Enter a value\")\n",
        "  n=int(val)\n",
        "  mylist.append(n)\n",
        "  #taken list 2\n",
        "mylist2=[]\n",
        "print(\"Enter a list that is taken from list 2\")\n",
        "for i in range (5):\n",
        "    val=input(\"enter a number\")\n",
        "    n=int(val)\n",
        "    mylist2.append(n)\n",
        "list3=mylist+mylist2;\n",
        "print(list3)"
      ],
      "metadata": {
        "colab": {
          "base_uri": "https://localhost:8080/"
        },
        "id": "gKKQX4MWGmuW",
        "outputId": "29c2e707-efee-4108-ff49-4e14257f7f0a"
      },
      "execution_count": 17,
      "outputs": [
        {
          "output_type": "stream",
          "name": "stdout",
          "text": [
            "Enter  a list that is  taken from user 1\n",
            "Enter a value1\n",
            "Enter a value2\n",
            "Enter a value3\n",
            "Enter a value4\n",
            "Enter a value5\n",
            "Enter a list that is taken from list 2\n",
            "enter a number9\n",
            "enter a number8\n",
            "enter a number7\n",
            "enter a number6\n",
            "enter a number5\n",
            "[1, 2, 3, 4, 5, 9, 8, 7, 6, 5]\n"
          ]
        }
      ]
    }
  ]
}