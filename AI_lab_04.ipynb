{
  "nbformat": 4,
  "nbformat_minor": 0,
  "metadata": {
    "colab": {
      "provenance": [],
      "authorship_tag": "ABX9TyMniYB9YPN3L+8YQmQV8J7W",
      "include_colab_link": true
    },
    "kernelspec": {
      "name": "python3",
      "display_name": "Python 3"
    },
    "language_info": {
      "name": "python"
    }
  },
  "cells": [
    {
      "cell_type": "markdown",
      "metadata": {
        "id": "view-in-github",
        "colab_type": "text"
      },
      "source": [
        "<a href=\"https://colab.research.google.com/github/Ayesha3910/Artificial-Intelligence/blob/main/AI_lab_04.ipynb\" target=\"_parent\"><img src=\"https://colab.research.google.com/assets/colab-badge.svg\" alt=\"Open In Colab\"/></a>"
      ]
    },
    {
      "cell_type": "code",
      "source": [
        "class Node:\n",
        "  def  __init__(self,state,parent,actions,totalcast):\n",
        "    self.state=state \n",
        "    self.parent=parent\n",
        "    self.actions=actions\n",
        "    self.totalcast=totalcast\n",
        "def DFS():\n",
        "  ist='A' \n",
        "  goalstate='D'\n",
        "    #lets take a graph \n",
        "  graph={'A':Node('A',None,['B','E','C'],None),\n",
        "        'B':Node('B',None,['D','E','A'],None), \n",
        "        'C':Node('C',None,['A','F','G'],None),\n",
        "        'D':Node('D',None,['B','E'],None),\n",
        "        'E':Node('E',None,['A','B','D'],None),\n",
        "        'F':Node('F',None,['C'],None),\n",
        "        'G':Node('G',None,['C'],None)}\n",
        "  front=[ist]\n",
        "  explored=[]\n",
        "  while len(front)!=0:\n",
        "    currentnode=front.pop(len(front)-1)\n",
        "    print(currentnode)\n",
        "    explored.append(currentnode)\n",
        "    currentchildren=0\n",
        "    for child in graph [currentnode].actions:\n",
        "         if child   not in front and child  not in explored:\n",
        "             graph[child].parent=currentnode\n",
        "             if graph [child].state==goalstate:\n",
        "                 print(explored)\n",
        "                 return actionsequence (graph,ist,goalstate)\n",
        "             currentchildren=currentchildren+1\n",
        "             front.append(child)\n",
        "    if currentchildren==0:\n",
        "          del explored[len(explored)-1]\n",
        "    \n",
        "def actionsequence(graph,ist,goalstate):\n",
        "\n",
        "            solution=[goalstate]\n",
        "            currentparent=graph[goalstate].parent\n",
        "            while currentparent !=None:\n",
        "              solution.append(currentparent)\n",
        "              currentparent=graph[currentparent].parent\n",
        "            solution.reverse()\n",
        "            return solution\n",
        "\n",
        "solution = DFS()\n",
        "print(solution)"
      ],
      "metadata": {
        "colab": {
          "base_uri": "https://localhost:8080/"
        },
        "id": "m_Xpojr_lRso",
        "outputId": "3733f7d7-188d-4079-c334-d7e81127541e"
      },
      "execution_count": 10,
      "outputs": [
        {
          "output_type": "stream",
          "name": "stdout",
          "text": [
            "A\n",
            "C\n",
            "G\n",
            "F\n",
            "E\n",
            "['A', 'C', 'E']\n",
            "['A', 'E', 'D']\n"
          ]
        }
      ]
    }
  ]
}