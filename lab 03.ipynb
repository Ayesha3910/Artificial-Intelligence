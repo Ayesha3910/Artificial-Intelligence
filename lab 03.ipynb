{
  "nbformat": 4,
  "nbformat_minor": 0,
  "metadata": {
    "colab": {
      "provenance": [],
      "authorship_tag": "ABX9TyMZwRfxOlqz+xjhtuXNW2cW",
      "include_colab_link": true
    },
    "kernelspec": {
      "name": "python3",
      "display_name": "Python 3"
    },
    "language_info": {
      "name": "python"
    }
  },
  "cells": [
    {
      "cell_type": "markdown",
      "metadata": {
        "id": "view-in-github",
        "colab_type": "text"
      },
      "source": [
        "<a href=\"https://colab.research.google.com/github/Ayesha3910/Artificial-Intelligence/blob/main/lab%2003.ipynb\" target=\"_parent\"><img src=\"https://colab.research.google.com/assets/colab-badge.svg\" alt=\"Open In Colab\"/></a>"
      ]
    },
    {
      "cell_type": "code",
      "execution_count": null,
      "metadata": {
        "id": "MQIPYFnmuTXt"
      },
      "outputs": [],
      "source": [
        "class Node:\n",
        "  def __init__(self, state, parent, actions, totalCost):\n",
        "    self.state = state\n",
        "    self.parent = parent\n",
        "    self.actions = actions\n",
        "    self.totalCost = totalCost\n",
        "  \n",
        "def BFS():\n",
        "  initialState = input(\"Enter initial Node: \")\n",
        "  destinationState = input(\"Enter destination Node: \")\n",
        "\n",
        "  graph = {'Oradea': Node('Oradea', None, ['Zerind' , 'Sibui'], None),\n",
        "                  'Zerind': Node('Zerind', None, ['Oradea' , 'Arad'], None),\n",
        "                  'Neamt': Node('Neamt', None, ['Iasi'], None),\n",
        "                  'Arad': Node('Arad', None, ['Zerind', 'Sibui' , 'Timisoara'], None),\n",
        "                  'Isai': Node('Isai', None, ['Neamt','Vaslui'], None),\n",
        "                  'Sibui': Node('Sibui', None, ['Oradea', 'Arad' , 'Fagaras'], None),\n",
        "                  'Fagaras': Node('Fagaras', None, ['Sibui', 'Bucharest'], None),\n",
        "                  'Vaslui': Node('Vaslui', None, ['Isai','Urziceni'], None),\n",
        "                  'Timisoara': Node('Timisoara', None, ['Arad','Lugoj'], None),\n",
        "                  'Riminica': Node('Riminica', None, ['Sibui','Pitesti','Craiova'], None),\n",
        "                  'Lugoj': Node('Lugoj', None, ['Timisoara','Mehadia'], None),\n",
        "                  'Pitesti': Node('Pitesti', None, ['Riminica','Craiova','Bucharest'], None),\n",
        "                  'Mehadia': Node('Mehadia', None, ['Lugoj','Drobeta'], None),\n",
        "                  'Bucharest': Node('Bucharest', None, ['Fagaras','Pitesti','Urziceni'], None),\n",
        "                  'Urziceni': Node('Urziceni', None, ['Bucharest','Hirsova','Vaslui'], None),\n",
        "                  'Hirsova': Node('Hirsova', None, ['Urziceni','Eforie'], None),\n",
        "                  'Drobeta': Node('Drobeta', None, ['Mehadia','Craiova'], None),\n",
        "                  'Craiova': Node('Craiova', None, ['Drobeta','Riminica','Pitesti'], None),\n",
        "                  'Giurgui': Node('Giurgui', None, ['Bucharest'], None),\n",
        "                  'Eforie': Node('Eforie', None, ['Hirsova'], None)}\n",
        "\n",
        "  frontierList = [initialState]\n",
        "  visitedList = []\n",
        "\n",
        "  while len(frontierList) != 0:\n",
        "    currentNode = frontierList.pop(0)\n",
        "    visitedList.append(currentNode)\n",
        "    currentChildren = 0\n",
        "    for child in graph[currentNode].actions:\n",
        "      if child not in frontierList and child not in visitedList:\n",
        "        graph[child].parent = currentNode\n",
        "        if graph[child].state == destinationState:\n",
        "          print(\"Explored Nodes are: \", visitedList)\n",
        "          return roadMap(graph, initialState, destinationState)\n",
        "      #  currentChildren = currentChildren + 1\n",
        "        frontierList.append(child)\n",
        "    #if currentChildren == 0:\n",
        "      #del visitedList[len(visitedList)-1]\n",
        "\n",
        "def roadMap(graph, initialState, destinationState):\n",
        "  solution = [destinationState]\n",
        "  currentParent = graph[destinationState].parent\n",
        "\n",
        "  while currentParent != None:\n",
        "    solution.append(currentParent)\n",
        "    currentParent = graph[currentParent].parent\n",
        "  solution.reverse()\n",
        "  return solution\n",
        "\n",
        "sol = BFS()\n",
        "print(sol)"
      ]
    },
    {
      "cell_type": "code",
      "source": [
        "\n",
        "def solveMazeso(maze):\n",
        "      R, C = len(maze), len(maze[0]) \n",
        "      start = (0, 0)\n",
        "      for r in range(R):  \n",
        "       for c in range(C):  \n",
        "           if maze[r][c] == 'S': \n",
        "             start = (r, c) \n",
        "             break \n",
        "       else:  \n",
        "        continue   \n",
        "       break \n",
        "      else: \n",
        "       return None\n",
        "       queue = deque() \n",
        "       queue.appendleft((start[0], start[1], 0, [start[0] * C + start[1]]))\n",
        "      directions = [[0, 1], [0, -1], [1, 0], [-1, 0]]  \n",
        "      visited = [[False] * C for _ in range(R)] \n",
        "      while len(queue) != 0:       \n",
        "            coord = queue.pop() \n",
        "            visited[coord[0]][coord[1]] = True  \n",
        "            if maze[coord[0]][coord[1]] == \"E\":    \n",
        "                return coord[2], [[i//C, i%C] for i in coord[3]]\n",
        "                 # Return path length, boxes on path\n",
        "                for dir in directions: \n",
        "                  nr, nc = coord[0] + dir[0], coord[1] + dir[1]    \n",
        "                  if (nr < 0 or nr >= R or nc < 0 or nc >= C or maze[nr][nc] == \"#\" or visited[nr][nc]):\n",
        "                   continue  \n",
        "                queue.appendleft((nr, nc, coord[2] + 1, coord[3] + [nr * C + nc]))"
      ],
      "metadata": {
        "id": "MUegn5A1uVRu"
      },
      "execution_count": null,
      "outputs": []
    }
  ]
}